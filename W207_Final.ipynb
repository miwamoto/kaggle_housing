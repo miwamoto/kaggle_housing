{
 "cells": [
  {
   "cell_type": "markdown",
   "metadata": {},
   "source": [
    "# W207 Final Project\n",
    "## Home Price Prediction\n",
    "Mona Iwamoto, Michelle Kim, Alex Lau, Alex Nocella"
   ]
  },
  {
   "cell_type": "code",
   "execution_count": 23,
   "metadata": {
    "collapsed": false
   },
   "outputs": [
    {
     "name": "stdout",
     "output_type": "stream",
     "text": [
      "(1460, 290)\n",
      "(1000, 289)\n",
      "(1000,)\n",
      "(460, 289)\n",
      "(460,)\n",
      "   Id  MSSubClass  LotFrontage  LotArea  OverallQual  OverallCond  YearBuilt  \\\n",
      "0   1          60         65.0     8450            7            5       2003   \n",
      "1   2          20         80.0     9600            6            8       1976   \n",
      "2   3          60         68.0    11250            7            5       2001   \n",
      "3   4          70         60.0     9550            7            5       1915   \n",
      "4   5          60         84.0    14260            8            5       2000   \n",
      "\n",
      "   YearRemodAdd  MasVnrArea  BsmtFinSF1          ...            \\\n",
      "0          2003       196.0         706          ...             \n",
      "1          1976         0.0         978          ...             \n",
      "2          2002       162.0         486          ...             \n",
      "3          1970         0.0         216          ...             \n",
      "4          2000       350.0         655          ...             \n",
      "\n",
      "   SaleType_ConLw  SaleType_New  SaleType_Oth  SaleType_WD  \\\n",
      "0               0             0             0            1   \n",
      "1               0             0             0            1   \n",
      "2               0             0             0            1   \n",
      "3               0             0             0            1   \n",
      "4               0             0             0            1   \n",
      "\n",
      "   SaleCondition_Abnorml  SaleCondition_AdjLand  SaleCondition_Alloca  \\\n",
      "0                      0                      0                     0   \n",
      "1                      0                      0                     0   \n",
      "2                      0                      0                     0   \n",
      "3                      1                      0                     0   \n",
      "4                      0                      0                     0   \n",
      "\n",
      "   SaleCondition_Family  SaleCondition_Normal  SaleCondition_Partial  \n",
      "0                     0                     1                      0  \n",
      "1                     0                     1                      0  \n",
      "2                     0                     1                      0  \n",
      "3                     0                     0                      0  \n",
      "4                     0                     1                      0  \n",
      "\n",
      "[5 rows x 290 columns]\n",
      "0    208500\n",
      "1    181500\n",
      "2    223500\n",
      "3    140000\n",
      "4    250000\n",
      "Name: SalePrice, dtype: int64\n"
     ]
    }
   ],
   "source": [
    "%matplotlib inline\n",
    "import numpy as np\n",
    "import pandas as pd\n",
    "import matplotlib.pyplot as plt\n",
    "import sklearn.linear_model as linear_model\n",
    "import sklearn.metrics as metrics\n",
    "\n",
    "train_all = pd.read_csv('train.csv')\n",
    "test = pd.read_csv('test.csv')\n",
    "\n",
    "train_all = pd.get_dummies(train_all)\n",
    "train_all = train_all.fillna(train_all.mean())\n",
    "\n",
    "print train_all.shape\n",
    "\n",
    "# split train into train and dev\n",
    "train = train_all[:1000]\n",
    "dev = train_all[1000:]\n",
    "\n",
    "# Split into input and output dataframes.\n",
    "train_X, train_y = train.loc[:, train.columns != 'SalePrice'], train.loc[:, train.columns == 'SalePrice']\n",
    "dev_X, dev_y = dev.loc[:, dev.columns != 'SalePrice'], dev.loc[:, dev.columns == 'SalePrice']\n",
    "\n",
    "train_X = train_X[:train_X.shape[0]]\n",
    "train_y = train_y.SalePrice\n",
    "\n",
    "dev_X = dev_X[:dev_X.shape[0]]\n",
    "dev_y = dev_y.SalePrice\n",
    "\n",
    "print train_X.shape\n",
    "print train_y.shape\n",
    "print dev_X.shape\n",
    "print dev_y.shape\n",
    "print train.head()"
   ]
  },
  {
   "cell_type": "code",
   "execution_count": 54,
   "metadata": {
    "collapsed": false
   },
   "outputs": [
    {
     "name": "stdout",
     "output_type": "stream",
     "text": [
      "y-intercept: 8,283.58\n",
      "GrLivArea coefficient: 115.19\n",
      "Root Mean Squared Error: 59,977.54\n",
      "R-squared: 0.40\n"
     ]
    }
   ],
   "source": [
    "# Set up simplest linear regression model possible:\n",
    "simple_LR = linear_model.LinearRegression()\n",
    "simple_LR.fit(X = train_X.GrLivArea.values.reshape(-1, 1), y = train_y.values.reshape(-1, 1))\n",
    "\n",
    "print(\"y-intercept: {:,.2f}\".format(float(simple_LR.intercept_)))\n",
    "print(\"GrLivArea coefficient: {:,.2f}\".format(float(simple_LR.coef_)))\n",
    "\n",
    "simple_LR_pred_labels = simple_LR.predict(dev_X.GrLivArea.values.reshape(-1, 1))\n",
    "print(\"Root Mean Squared Error: {:,.2f}\".format(metrics.mean_squared_error(dev_y, simple_LR_pred_labels) ** 0.5))\n",
    "\n",
    "# Calculate R-squared values of model.\n",
    "print(\"R-squared: {:.2f}\".format(metrics.r2_score(dev_y, simple_LR_pred_labels)))"
   ]
  },
  {
   "cell_type": "code",
   "execution_count": 22,
   "metadata": {
    "collapsed": false
   },
   "outputs": [
    {
     "name": "stdout",
     "output_type": "stream",
     "text": [
      "OverallQual\n",
      "TotalBsmtSF\n",
      "GrLivArea\n",
      "ExterQual_Ex\n"
     ]
    }
   ],
   "source": [
    "#Maybe Use Decision Tree/Random Forests to Pick Best Features?\n",
    "from sklearn.tree import DecisionTreeRegressor\n",
    "\n",
    "tree=DecisionTreeRegressor(max_depth=3)\n",
    "tree.fit(train_X,train_y)\n",
    "\n",
    "#print tree.feature_importances_\n",
    "features = np.where(tree.feature_importances_!=0)[0]\n",
    "for i in features:\n",
    "    print list(train_X)[i]"
   ]
  },
  {
   "cell_type": "code",
   "execution_count": 61,
   "metadata": {
    "collapsed": false
   },
   "outputs": [],
   "source": [
    "#Write out the csv of predictions\n",
    "output = dev_X.copy()\n",
    "output['SalePrice']=simple_LR.predict(output.GrLivArea.values.reshape(-1,1))\n",
    "output.to_csv('Output.csv',columns=['Id','SalePrice'],index=False)"
   ]
  }
 ],
 "metadata": {
  "kernelspec": {
   "display_name": "Python 2",
   "language": "python",
   "name": "python2"
  },
  "language_info": {
   "codemirror_mode": {
    "name": "ipython",
    "version": 2
   },
   "file_extension": ".py",
   "mimetype": "text/x-python",
   "name": "python",
   "nbconvert_exporter": "python",
   "pygments_lexer": "ipython2",
   "version": "2.7.13"
  }
 },
 "nbformat": 4,
 "nbformat_minor": 2
}
