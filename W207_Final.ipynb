{
 "cells": [
  {
   "cell_type": "markdown",
   "metadata": {},
   "source": [
    "# W207 Final Project\n",
    "## Home Price Prediction\n",
    "Mona Iwamoto, Michelle Kim, Alex Lau, Alex Nocella"
   ]
  },
  {
   "cell_type": "code",
   "execution_count": 35,
   "metadata": {},
   "outputs": [
    {
     "name": "stdout",
     "output_type": "stream",
     "text": [
      "1000\n",
      "460\n",
      "1459\n",
      "   Id  MSSubClass MSZoning  LotFrontage  LotArea Street Alley LotShape  \\\n",
      "0   1          60       RL         65.0     8450   Pave   NaN      Reg   \n",
      "1   2          20       RL         80.0     9600   Pave   NaN      Reg   \n",
      "2   3          60       RL         68.0    11250   Pave   NaN      IR1   \n",
      "3   4          70       RL         60.0     9550   Pave   NaN      IR1   \n",
      "4   5          60       RL         84.0    14260   Pave   NaN      IR1   \n",
      "\n",
      "  LandContour Utilities    ...     PoolArea PoolQC Fence MiscFeature MiscVal  \\\n",
      "0         Lvl    AllPub    ...            0    NaN   NaN         NaN       0   \n",
      "1         Lvl    AllPub    ...            0    NaN   NaN         NaN       0   \n",
      "2         Lvl    AllPub    ...            0    NaN   NaN         NaN       0   \n",
      "3         Lvl    AllPub    ...            0    NaN   NaN         NaN       0   \n",
      "4         Lvl    AllPub    ...            0    NaN   NaN         NaN       0   \n",
      "\n",
      "  MoSold YrSold  SaleType  SaleCondition  SalePrice  \n",
      "0      2   2008        WD         Normal     208500  \n",
      "1      5   2007        WD         Normal     181500  \n",
      "2      9   2008        WD         Normal     223500  \n",
      "3      2   2006        WD        Abnorml     140000  \n",
      "4     12   2008        WD         Normal     250000  \n",
      "\n",
      "[5 rows x 81 columns]\n"
     ]
    }
   ],
   "source": [
    "%matplotlib inline\n",
    "import numpy as np\n",
    "import pandas as pd\n",
    "import matplotlib.pyplot as plt\n",
    "import sklearn.linear_model as linear_model\n",
    "import sklearn.metrics as metrics\n",
    "\n",
    "train_all = pd.read_csv('train.csv')\n",
    "test = pd.read_csv('test.csv')\n",
    "\n",
    "# split train into train and dev\n",
    "train = train_all[:1000]\n",
    "dev = train_all[1000:]\n",
    "\n",
    "# Split into input and output dataframes.\n",
    "train_X, train_y = train.loc[:, train.columns != 'SalePrice'], train.loc[:, train.columns == 'SalePrice']\n",
    "dev_X, dev_y = dev.loc[:, dev.columns != 'SalePrice'], dev.loc[:, dev.columns == 'SalePrice']\n",
    "\n",
    "print len(train)\n",
    "print len(dev)\n",
    "print len(test)\n",
    "print train.head()"
   ]
  },
  {
   "cell_type": "code",
   "execution_count": 48,
   "metadata": {},
   "outputs": [
    {
     "name": "stdout",
     "output_type": "stream",
     "text": [
      "y-intercept: 8,283.58\n",
      "GrLivArea coefficient: 115.19\n",
      "R-squared: 0.54\n",
      "Mean Squared Error: 59,977.54\n"
     ]
    }
   ],
   "source": [
    "# Set up simplest linear regression model possible:\n",
    "simple_LR = linear_model.LinearRegression()\n",
    "simple_LR.fit(X = train_X.GrLivArea.values.reshape(-1, 1), y = train_y.values.reshape(-1, 1))\n",
    "\n",
    "print(\"y-intercept: {:,.2f}\".format(float(simple_LR.intercept_)))\n",
    "print(\"GrLivArea coefficient: {:,.2f}\".format(float(simple_LR.coef_)))\n",
    "\n",
    "# Calculate R-squared values of model.\n",
    "print(\"R-squared: {:.2f}\".format(simple_LR.score(train_X.GrLivArea.values.reshape(-1, 1), train_y.values.reshape(-1, 1))))\n",
    "\n",
    "simple_LR_pred_labels = simple_LR.predict(dev_X.GrLivArea.values.reshape(-1, 1))\n",
    "print(\"Mean Squared Error: {:,.2f}\".format(metrics.mean_squared_error(dev_y, simple_LR_pred_labels) ** 0.5))"
   ]
  },
  {
   "cell_type": "code",
   "execution_count": null,
   "metadata": {
    "collapsed": true
   },
   "outputs": [],
   "source": []
  }
 ],
 "metadata": {
  "kernelspec": {
   "display_name": "Python [conda env:grail27]",
   "language": "python",
   "name": "conda-env-grail27-py"
  },
  "language_info": {
   "codemirror_mode": {
    "name": "ipython",
    "version": 2
   },
   "file_extension": ".py",
   "mimetype": "text/x-python",
   "name": "python",
   "nbconvert_exporter": "python",
   "pygments_lexer": "ipython2",
   "version": "2.7.13"
  }
 },
 "nbformat": 4,
 "nbformat_minor": 2
}
